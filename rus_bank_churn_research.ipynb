{
 "cells": [
  {
   "cell_type": "markdown",
   "metadata": {},
   "source": [
    "# Оглавнение\n",
    "\n",
    "- [Вступление](#intro)\n",
    "- [Подготовка данных](#preparation)\n",
    "  - [Выводы по подготовке](#prep_conclusion)\n",
    "- [Исследование задачи](#research)\n",
    "  - [\"Глупая\" модель](#dummy)\n",
    "  - [Логистическая Регресия](#lr)\n",
    "  - [Древо Решений](#dt)\n",
    "  - [Случайный Лес](#rf)\n",
    "  - [Кросс-валидация](#cv)\n",
    "  - [Выводы по исследованию](#res_coclusion)\n",
    "- [Борьба с дисбалансом](#balance)\n",
    "  - [Upsampling](#upsampling)\n",
    "  - [Downsampling](#downsampling)\n",
    "  - [Промежуточный вывод](#int_conclusion)\n",
    "  - [Порог классификации](#threshold)\n",
    "  - [Выводы по балансировке](#balance_conclusion)\n",
    "- [Тестирование модели](#test)\n",
    "- [Выводы](#conclusion)"
   ]
  },
  {
   "cell_type": "markdown",
   "metadata": {},
   "source": [
    "<a id='intro'></a>\n",
    "## Вступление\n",
    "\n",
    "Из «Бета-Банка» стали уходить клиенты. Каждый месяц. Немного, но заметно. Банковские маркетологи посчитали: сохранять текущих клиентов дешевле, чем привлекать новых.\n",
    "\n",
    "Перед нами стоит задача спрогнозировать отток клиентов из банка. В наличии имеем файл содержащий данные о поведении клиентов и факт их расторжения или нет договора с банком. Изучим имеющиеся данные, при необходимости сделаем предобработку и построим модель которая поможет предсказать уход клиента.\n",
    "\n",
    "Нам поставили задачу добится значение F1-меры не менее 0.59 на тестовоый выборке."
   ]
  },
  {
   "cell_type": "markdown",
   "metadata": {},
   "source": [
    "<a id ='preparation'></a>\n",
    "## Подготовка данных"
   ]
  },
  {
   "cell_type": "markdown",
   "metadata": {},
   "source": [
    "**Импортируем необходимые библиотеки**"
   ]
  },
  {
   "cell_type": "code",
   "execution_count": 1,
   "metadata": {},
   "outputs": [],
   "source": [
    "import pandas as pd\n",
    "import numpy as np\n",
    "import matplotlib.pyplot as plt\n",
    "\n",
    "from sklearn.model_selection import train_test_split, GridSearchCV\n",
    "from sklearn.preprocessing import StandardScaler\n",
    "from sklearn.utils import shuffle\n",
    "\n",
    "from sklearn.dummy import DummyClassifier\n",
    "from sklearn.linear_model import LogisticRegression \n",
    "from sklearn.tree import DecisionTreeClassifier\n",
    "from sklearn.ensemble import RandomForestClassifier\n",
    "\n",
    "from sklearn.metrics import accuracy_score,precision_score, recall_score, f1_score, confusion_matrix, roc_auc_score, roc_curve"
   ]
  },
  {
   "cell_type": "markdown",
   "metadata": {},
   "source": [
    "**Читаем исходный файл**"
   ]
  },
  {
   "cell_type": "code",
   "execution_count": 2,
   "metadata": {},
   "outputs": [],
   "source": [
    "data = pd.read_csv('Churn.csv')"
   ]
  },
  {
   "cell_type": "markdown",
   "metadata": {},
   "source": [
    "**Основная информация о датафрейме**"
   ]
  },
  {
   "cell_type": "code",
   "execution_count": 3,
   "metadata": {},
   "outputs": [
    {
     "name": "stdout",
     "output_type": "stream",
     "text": [
      "<class 'pandas.core.frame.DataFrame'>\n",
      "RangeIndex: 10000 entries, 0 to 9999\n",
      "Data columns (total 14 columns):\n",
      " #   Column           Non-Null Count  Dtype  \n",
      "---  ------           --------------  -----  \n",
      " 0   RowNumber        10000 non-null  int64  \n",
      " 1   CustomerId       10000 non-null  int64  \n",
      " 2   Surname          10000 non-null  object \n",
      " 3   CreditScore      10000 non-null  int64  \n",
      " 4   Geography        10000 non-null  object \n",
      " 5   Gender           10000 non-null  object \n",
      " 6   Age              10000 non-null  int64  \n",
      " 7   Tenure           9091 non-null   float64\n",
      " 8   Balance          10000 non-null  float64\n",
      " 9   NumOfProducts    10000 non-null  int64  \n",
      " 10  HasCrCard        10000 non-null  int64  \n",
      " 11  IsActiveMember   10000 non-null  int64  \n",
      " 12  EstimatedSalary  10000 non-null  float64\n",
      " 13  Exited           10000 non-null  int64  \n",
      "dtypes: float64(3), int64(8), object(3)\n",
      "memory usage: 1.1+ MB\n"
     ]
    }
   ],
   "source": [
    "data.info()"
   ]
  },
  {
   "cell_type": "code",
   "execution_count": 4,
   "metadata": {},
   "outputs": [
    {
     "data": {
      "text/html": [
       "<div>\n",
       "<style scoped>\n",
       "    .dataframe tbody tr th:only-of-type {\n",
       "        vertical-align: middle;\n",
       "    }\n",
       "\n",
       "    .dataframe tbody tr th {\n",
       "        vertical-align: top;\n",
       "    }\n",
       "\n",
       "    .dataframe thead th {\n",
       "        text-align: right;\n",
       "    }\n",
       "</style>\n",
       "<table border=\"1\" class=\"dataframe\">\n",
       "  <thead>\n",
       "    <tr style=\"text-align: right;\">\n",
       "      <th></th>\n",
       "      <th>RowNumber</th>\n",
       "      <th>CustomerId</th>\n",
       "      <th>Surname</th>\n",
       "      <th>CreditScore</th>\n",
       "      <th>Geography</th>\n",
       "      <th>Gender</th>\n",
       "      <th>Age</th>\n",
       "      <th>Tenure</th>\n",
       "      <th>Balance</th>\n",
       "      <th>NumOfProducts</th>\n",
       "      <th>HasCrCard</th>\n",
       "      <th>IsActiveMember</th>\n",
       "      <th>EstimatedSalary</th>\n",
       "      <th>Exited</th>\n",
       "    </tr>\n",
       "  </thead>\n",
       "  <tbody>\n",
       "    <tr>\n",
       "      <th>0</th>\n",
       "      <td>1</td>\n",
       "      <td>15634602</td>\n",
       "      <td>Hargrave</td>\n",
       "      <td>619</td>\n",
       "      <td>France</td>\n",
       "      <td>Female</td>\n",
       "      <td>42</td>\n",
       "      <td>2.0</td>\n",
       "      <td>0.00</td>\n",
       "      <td>1</td>\n",
       "      <td>1</td>\n",
       "      <td>1</td>\n",
       "      <td>101348.88</td>\n",
       "      <td>1</td>\n",
       "    </tr>\n",
       "    <tr>\n",
       "      <th>1</th>\n",
       "      <td>2</td>\n",
       "      <td>15647311</td>\n",
       "      <td>Hill</td>\n",
       "      <td>608</td>\n",
       "      <td>Spain</td>\n",
       "      <td>Female</td>\n",
       "      <td>41</td>\n",
       "      <td>1.0</td>\n",
       "      <td>83807.86</td>\n",
       "      <td>1</td>\n",
       "      <td>0</td>\n",
       "      <td>1</td>\n",
       "      <td>112542.58</td>\n",
       "      <td>0</td>\n",
       "    </tr>\n",
       "    <tr>\n",
       "      <th>2</th>\n",
       "      <td>3</td>\n",
       "      <td>15619304</td>\n",
       "      <td>Onio</td>\n",
       "      <td>502</td>\n",
       "      <td>France</td>\n",
       "      <td>Female</td>\n",
       "      <td>42</td>\n",
       "      <td>8.0</td>\n",
       "      <td>159660.80</td>\n",
       "      <td>3</td>\n",
       "      <td>1</td>\n",
       "      <td>0</td>\n",
       "      <td>113931.57</td>\n",
       "      <td>1</td>\n",
       "    </tr>\n",
       "    <tr>\n",
       "      <th>3</th>\n",
       "      <td>4</td>\n",
       "      <td>15701354</td>\n",
       "      <td>Boni</td>\n",
       "      <td>699</td>\n",
       "      <td>France</td>\n",
       "      <td>Female</td>\n",
       "      <td>39</td>\n",
       "      <td>1.0</td>\n",
       "      <td>0.00</td>\n",
       "      <td>2</td>\n",
       "      <td>0</td>\n",
       "      <td>0</td>\n",
       "      <td>93826.63</td>\n",
       "      <td>0</td>\n",
       "    </tr>\n",
       "    <tr>\n",
       "      <th>4</th>\n",
       "      <td>5</td>\n",
       "      <td>15737888</td>\n",
       "      <td>Mitchell</td>\n",
       "      <td>850</td>\n",
       "      <td>Spain</td>\n",
       "      <td>Female</td>\n",
       "      <td>43</td>\n",
       "      <td>2.0</td>\n",
       "      <td>125510.82</td>\n",
       "      <td>1</td>\n",
       "      <td>1</td>\n",
       "      <td>1</td>\n",
       "      <td>79084.10</td>\n",
       "      <td>0</td>\n",
       "    </tr>\n",
       "    <tr>\n",
       "      <th>5</th>\n",
       "      <td>6</td>\n",
       "      <td>15574012</td>\n",
       "      <td>Chu</td>\n",
       "      <td>645</td>\n",
       "      <td>Spain</td>\n",
       "      <td>Male</td>\n",
       "      <td>44</td>\n",
       "      <td>8.0</td>\n",
       "      <td>113755.78</td>\n",
       "      <td>2</td>\n",
       "      <td>1</td>\n",
       "      <td>0</td>\n",
       "      <td>149756.71</td>\n",
       "      <td>1</td>\n",
       "    </tr>\n",
       "    <tr>\n",
       "      <th>6</th>\n",
       "      <td>7</td>\n",
       "      <td>15592531</td>\n",
       "      <td>Bartlett</td>\n",
       "      <td>822</td>\n",
       "      <td>France</td>\n",
       "      <td>Male</td>\n",
       "      <td>50</td>\n",
       "      <td>7.0</td>\n",
       "      <td>0.00</td>\n",
       "      <td>2</td>\n",
       "      <td>1</td>\n",
       "      <td>1</td>\n",
       "      <td>10062.80</td>\n",
       "      <td>0</td>\n",
       "    </tr>\n",
       "    <tr>\n",
       "      <th>7</th>\n",
       "      <td>8</td>\n",
       "      <td>15656148</td>\n",
       "      <td>Obinna</td>\n",
       "      <td>376</td>\n",
       "      <td>Germany</td>\n",
       "      <td>Female</td>\n",
       "      <td>29</td>\n",
       "      <td>4.0</td>\n",
       "      <td>115046.74</td>\n",
       "      <td>4</td>\n",
       "      <td>1</td>\n",
       "      <td>0</td>\n",
       "      <td>119346.88</td>\n",
       "      <td>1</td>\n",
       "    </tr>\n",
       "    <tr>\n",
       "      <th>8</th>\n",
       "      <td>9</td>\n",
       "      <td>15792365</td>\n",
       "      <td>He</td>\n",
       "      <td>501</td>\n",
       "      <td>France</td>\n",
       "      <td>Male</td>\n",
       "      <td>44</td>\n",
       "      <td>4.0</td>\n",
       "      <td>142051.07</td>\n",
       "      <td>2</td>\n",
       "      <td>0</td>\n",
       "      <td>1</td>\n",
       "      <td>74940.50</td>\n",
       "      <td>0</td>\n",
       "    </tr>\n",
       "    <tr>\n",
       "      <th>9</th>\n",
       "      <td>10</td>\n",
       "      <td>15592389</td>\n",
       "      <td>H?</td>\n",
       "      <td>684</td>\n",
       "      <td>France</td>\n",
       "      <td>Male</td>\n",
       "      <td>27</td>\n",
       "      <td>2.0</td>\n",
       "      <td>134603.88</td>\n",
       "      <td>1</td>\n",
       "      <td>1</td>\n",
       "      <td>1</td>\n",
       "      <td>71725.73</td>\n",
       "      <td>0</td>\n",
       "    </tr>\n",
       "  </tbody>\n",
       "</table>\n",
       "</div>"
      ],
      "text/plain": [
       "   RowNumber  CustomerId   Surname  CreditScore Geography  Gender  Age  \\\n",
       "0          1    15634602  Hargrave          619    France  Female   42   \n",
       "1          2    15647311      Hill          608     Spain  Female   41   \n",
       "2          3    15619304      Onio          502    France  Female   42   \n",
       "3          4    15701354      Boni          699    France  Female   39   \n",
       "4          5    15737888  Mitchell          850     Spain  Female   43   \n",
       "5          6    15574012       Chu          645     Spain    Male   44   \n",
       "6          7    15592531  Bartlett          822    France    Male   50   \n",
       "7          8    15656148    Obinna          376   Germany  Female   29   \n",
       "8          9    15792365        He          501    France    Male   44   \n",
       "9         10    15592389        H?          684    France    Male   27   \n",
       "\n",
       "   Tenure    Balance  NumOfProducts  HasCrCard  IsActiveMember  \\\n",
       "0     2.0       0.00              1          1               1   \n",
       "1     1.0   83807.86              1          0               1   \n",
       "2     8.0  159660.80              3          1               0   \n",
       "3     1.0       0.00              2          0               0   \n",
       "4     2.0  125510.82              1          1               1   \n",
       "5     8.0  113755.78              2          1               0   \n",
       "6     7.0       0.00              2          1               1   \n",
       "7     4.0  115046.74              4          1               0   \n",
       "8     4.0  142051.07              2          0               1   \n",
       "9     2.0  134603.88              1          1               1   \n",
       "\n",
       "   EstimatedSalary  Exited  \n",
       "0        101348.88       1  \n",
       "1        112542.58       0  \n",
       "2        113931.57       1  \n",
       "3         93826.63       0  \n",
       "4         79084.10       0  \n",
       "5        149756.71       1  \n",
       "6         10062.80       0  \n",
       "7        119346.88       1  \n",
       "8         74940.50       0  \n",
       "9         71725.73       0  "
      ]
     },
     "execution_count": 4,
     "metadata": {},
     "output_type": "execute_result"
    }
   ],
   "source": [
    "data.head(10)"
   ]
  },
  {
   "cell_type": "code",
   "execution_count": 5,
   "metadata": {},
   "outputs": [
    {
     "name": "stdout",
     "output_type": "stream",
     "text": [
      "0    0.7963\n",
      "1    0.2037\n",
      "Name: Exited, dtype: float64\n"
     ]
    },
    {
     "data": {
      "image/png": "[encoded data removed]",
      "text/plain": [
       "<Figure size 432x288 with 1 Axes>"
      ]
     },
     "metadata": {
      "needs_background": "light"
     },
     "output_type": "display_data"
    }
   ],
   "source": [
    "class_frequency = data['Exited'].value_counts(normalize=True)\n",
    "print(class_frequency)\n",
    "class_frequency.plot(kind='bar');"
   ]
  },
  {
   "cell_type": "markdown",
   "metadata": {},
   "source": [
    "В данных содержится 10000 строк (клиентов). Есть 14 колонок. В одной колонке, `Tenure` есть пропуски, рассмотрим их. Колонка `Exited` является целевым признаком, проверили её на дисбаланс, данные в ней не сбалансированы 80/20. 80% это не ушедшие клиенты.\n",
    "\n",
    "**Пропуски**"
   ]
  },
  {
   "cell_type": "code",
   "execution_count": 6,
   "metadata": {},
   "outputs": [
    {
     "data": {
      "text/plain": [
       "RowNumber            0\n",
       "CustomerId           0\n",
       "Surname              0\n",
       "CreditScore          0\n",
       "Geography            0\n",
       "Gender               0\n",
       "Age                  0\n",
       "Tenure             909\n",
       "Balance              0\n",
       "NumOfProducts        0\n",
       "HasCrCard            0\n",
       "IsActiveMember       0\n",
       "EstimatedSalary      0\n",
       "Exited               0\n",
       "dtype: int64"
      ]
     },
     "execution_count": 6,
     "metadata": {},
     "output_type": "execute_result"
    }
   ],
   "source": [
    "data.isna().sum()"
   ]
  },
  {
   "cell_type": "code",
   "execution_count": 7,
   "metadata": {},
   "outputs": [
    {
     "data": {
      "text/plain": [
       "array([ 0.,  1.,  2.,  3.,  4.,  5.,  6.,  7.,  8.,  9., 10., nan])"
      ]
     },
     "execution_count": 7,
     "metadata": {},
     "output_type": "execute_result"
    }
   ],
   "source": [
    "data['Tenure'].sort_values().unique()"
   ]
  },
  {
   "cell_type": "code",
   "execution_count": 8,
   "metadata": {},
   "outputs": [
    {
     "data": {
      "text/plain": [
       "1.0     952\n",
       "2.0     950\n",
       "8.0     933\n",
       "3.0     928\n",
       "5.0     927\n",
       "7.0     925\n",
       "4.0     885\n",
       "9.0     882\n",
       "6.0     881\n",
       "10.0    446\n",
       "0.0     382\n",
       "Name: Tenure, dtype: int64"
      ]
     },
     "execution_count": 8,
     "metadata": {},
     "output_type": "execute_result"
    }
   ],
   "source": [
    "data['Tenure'].value_counts()"
   ]
  },
  {
   "cell_type": "code",
   "execution_count": 9,
   "metadata": {},
   "outputs": [
    {
     "data": {
      "image/png": "[encoded data removed]",
      "text/plain": [
       "<Figure size 432x288 with 1 Axes>"
      ]
     },
     "metadata": {
      "needs_background": "light"
     },
     "output_type": "display_data"
    }
   ],
   "source": [
    "data['Tenure'].hist();"
   ]
  },
  {
   "cell_type": "markdown",
   "metadata": {},
   "source": [
    "В столбце `Tenure` находится 909 пропусков. Столбец содержит целочисленные значения от 0 до 10. В диапазоне 2-9 количество значений находится примерно на одном уровне, около 900 строк. На 0 и 10 приходится меньше значений 382 и 446 соответсвенно.\n",
    "\n",
    "Данная колонка показывает сколько лет пользователь является клиентом банка. Можем предположить что отсутсвующие значения это 0 лет, но если наше предположение не верно, то этим мы исказим изначальные данные для модели. Можём или оставить пропуски или удалить их, это примерно 9% от изначального колличества. Пропуски удалим, 9% конечно не мало, но и не критично."
   ]
  },
  {
   "cell_type": "code",
   "execution_count": 10,
   "metadata": {},
   "outputs": [],
   "source": [
    "data = data.dropna(subset=['Tenure']).reset_index(drop=True)"
   ]
  },
  {
   "cell_type": "code",
   "execution_count": 11,
   "metadata": {
    "scrolled": true
   },
   "outputs": [
    {
     "data": {
      "text/plain": [
       "RowNumber          0\n",
       "CustomerId         0\n",
       "Surname            0\n",
       "CreditScore        0\n",
       "Geography          0\n",
       "Gender             0\n",
       "Age                0\n",
       "Tenure             0\n",
       "Balance            0\n",
       "NumOfProducts      0\n",
       "HasCrCard          0\n",
       "IsActiveMember     0\n",
       "EstimatedSalary    0\n",
       "Exited             0\n",
       "dtype: int64"
      ]
     },
     "execution_count": 11,
     "metadata": {},
     "output_type": "execute_result"
    }
   ],
   "source": [
    "data.isna().sum()"
   ]
  },
  {
   "cell_type": "markdown",
   "metadata": {},
   "source": [
    "**Удаление ненужных данных**\n",
    "\n",
    "Столбцы `RowNumber`, `CustomerId`, `Surname` нам не понадобятся, удалим их."
   ]
  },
  {
   "cell_type": "code",
   "execution_count": 12,
   "metadata": {},
   "outputs": [],
   "source": [
    "data = data.drop(['RowNumber','CustomerId','Surname'], axis=1).reset_index(drop=True)"
   ]
  },
  {
   "cell_type": "markdown",
   "metadata": {},
   "source": [
    "**Разбитие данных на выборки**\n",
    "\n",
    "Целевой признак содержит колонка `Exited` в виде двух значений (0 - клиент не ушел и 1 - клиент ушел). Все остальные колонки будем использовать в качестве признаков.\n",
    "\n",
    "Перед нами стоит задача классификации, данные содержат как категориальные признаки так и численные. С помощью прямого кодирования (**OHE**) преобразуем все категориальные в численные."
   ]
  },
  {
   "cell_type": "code",
   "execution_count": 13,
   "metadata": {},
   "outputs": [],
   "source": [
    "data_ohe = pd.get_dummies(data, drop_first=True)"
   ]
  },
  {
   "cell_type": "code",
   "execution_count": 14,
   "metadata": {},
   "outputs": [
    {
     "data": {
      "text/plain": [
       "(9091, 12)"
      ]
     },
     "execution_count": 14,
     "metadata": {},
     "output_type": "execute_result"
    }
   ],
   "source": [
    "data_ohe.shape"
   ]
  },
  {
   "cell_type": "code",
   "execution_count": 15,
   "metadata": {},
   "outputs": [
    {
     "data": {
      "text/html": [
       "<div>\n",
       "<style scoped>\n",
       "    .dataframe tbody tr th:only-of-type {\n",
       "        vertical-align: middle;\n",
       "    }\n",
       "\n",
       "    .dataframe tbody tr th {\n",
       "        vertical-align: top;\n",
       "    }\n",
       "\n",
       "    .dataframe thead th {\n",
       "        text-align: right;\n",
       "    }\n",
       "</style>\n",
       "<table border=\"1\" class=\"dataframe\">\n",
       "  <thead>\n",
       "    <tr style=\"text-align: right;\">\n",
       "      <th></th>\n",
       "      <th>CreditScore</th>\n",
       "      <th>Age</th>\n",
       "      <th>Tenure</th>\n",
       "      <th>Balance</th>\n",
       "      <th>NumOfProducts</th>\n",
       "      <th>HasCrCard</th>\n",
       "      <th>IsActiveMember</th>\n",
       "      <th>EstimatedSalary</th>\n",
       "      <th>Exited</th>\n",
       "      <th>Geography_Germany</th>\n",
       "      <th>Geography_Spain</th>\n",
       "      <th>Gender_Male</th>\n",
       "    </tr>\n",
       "  </thead>\n",
       "  <tbody>\n",
       "    <tr>\n",
       "      <th>0</th>\n",
       "      <td>619</td>\n",
       "      <td>42</td>\n",
       "      <td>2.0</td>\n",
       "      <td>0.00</td>\n",
       "      <td>1</td>\n",
       "      <td>1</td>\n",
       "      <td>1</td>\n",
       "      <td>101348.88</td>\n",
       "      <td>1</td>\n",
       "      <td>0</td>\n",
       "      <td>0</td>\n",
       "      <td>0</td>\n",
       "    </tr>\n",
       "    <tr>\n",
       "      <th>1</th>\n",
       "      <td>608</td>\n",
       "      <td>41</td>\n",
       "      <td>1.0</td>\n",
       "      <td>83807.86</td>\n",
       "      <td>1</td>\n",
       "      <td>0</td>\n",
       "      <td>1</td>\n",
       "      <td>112542.58</td>\n",
       "      <td>0</td>\n",
       "      <td>0</td>\n",
       "      <td>1</td>\n",
       "      <td>0</td>\n",
       "    </tr>\n",
       "    <tr>\n",
       "      <th>2</th>\n",
       "      <td>502</td>\n",
       "      <td>42</td>\n",
       "      <td>8.0</td>\n",
       "      <td>159660.80</td>\n",
       "      <td>3</td>\n",
       "      <td>1</td>\n",
       "      <td>0</td>\n",
       "      <td>113931.57</td>\n",
       "      <td>1</td>\n",
       "      <td>0</td>\n",
       "      <td>0</td>\n",
       "      <td>0</td>\n",
       "    </tr>\n",
       "    <tr>\n",
       "      <th>3</th>\n",
       "      <td>699</td>\n",
       "      <td>39</td>\n",
       "      <td>1.0</td>\n",
       "      <td>0.00</td>\n",
       "      <td>2</td>\n",
       "      <td>0</td>\n",
       "      <td>0</td>\n",
       "      <td>93826.63</td>\n",
       "      <td>0</td>\n",
       "      <td>0</td>\n",
       "      <td>0</td>\n",
       "      <td>0</td>\n",
       "    </tr>\n",
       "    <tr>\n",
       "      <th>4</th>\n",
       "      <td>850</td>\n",
       "      <td>43</td>\n",
       "      <td>2.0</td>\n",
       "      <td>125510.82</td>\n",
       "      <td>1</td>\n",
       "      <td>1</td>\n",
       "      <td>1</td>\n",
       "      <td>79084.10</td>\n",
       "      <td>0</td>\n",
       "      <td>0</td>\n",
       "      <td>1</td>\n",
       "      <td>0</td>\n",
       "    </tr>\n",
       "  </tbody>\n",
       "</table>\n",
       "</div>"
      ],
      "text/plain": [
       "   CreditScore  Age  Tenure    Balance  NumOfProducts  HasCrCard  \\\n",
       "0          619   42     2.0       0.00              1          1   \n",
       "1          608   41     1.0   83807.86              1          0   \n",
       "2          502   42     8.0  159660.80              3          1   \n",
       "3          699   39     1.0       0.00              2          0   \n",
       "4          850   43     2.0  125510.82              1          1   \n",
       "\n",
       "   IsActiveMember  EstimatedSalary  Exited  Geography_Germany  \\\n",
       "0               1        101348.88       1                  0   \n",
       "1               1        112542.58       0                  0   \n",
       "2               0        113931.57       1                  0   \n",
       "3               0         93826.63       0                  0   \n",
       "4               1         79084.10       0                  0   \n",
       "\n",
       "   Geography_Spain  Gender_Male  \n",
       "0                0            0  \n",
       "1                1            0  \n",
       "2                0            0  \n",
       "3                0            0  \n",
       "4                1            0  "
      ]
     },
     "execution_count": 15,
     "metadata": {},
     "output_type": "execute_result"
    }
   ],
   "source": [
    "data_ohe.head()"
   ]
  },
  {
   "cell_type": "code",
   "execution_count": 16,
   "metadata": {},
   "outputs": [
    {
     "data": {
      "image/png": "[encoded data removed]",
      "text/plain": [
       "<Figure size 432x288 with 1 Axes>"
      ]
     },
     "metadata": {
      "needs_background": "light"
     },
     "output_type": "display_data"
    }
   ],
   "source": [
    "data.groupby('Gender')['Gender'].agg('count').plot(kind='bar');"
   ]
  },
  {
   "cell_type": "code",
   "execution_count": 17,
   "metadata": {},
   "outputs": [
    {
     "data": {
      "image/png": "[encoded data removed]",
      "text/plain": [
       "<Figure size 432x288 with 1 Axes>"
      ]
     },
     "metadata": {
      "needs_background": "light"
     },
     "output_type": "display_data"
    }
   ],
   "source": [
    "data.groupby('Geography')['Geography'].agg('count').plot(kind='bar');"
   ]
  },
  {
   "cell_type": "markdown",
   "metadata": {},
   "source": [
    "Вместо столбца со страной проживания получили два (Germany и Spain) в которых в бинарном виде содержится информация о стране проживания, если в обоих стобцах стоят 0, значит страна проживания France.\n",
    "\n",
    "Теперь имеем 12 колонок, все признаки стали численными. Можно начать разбивку, для начала выделим целевой признак."
   ]
  },
  {
   "cell_type": "code",
   "execution_count": 18,
   "metadata": {},
   "outputs": [],
   "source": [
    "features = data_ohe.drop('Exited', axis=1,)\n",
    "target = data_ohe['Exited']"
   ]
  },
  {
   "cell_type": "markdown",
   "metadata": {},
   "source": [
    "Из имеющихся данным нам нужно получить три выборки:\n",
    "\n",
    "- Тренировочную: для обучения модели.\n",
    "- Валидационную: с помощью которой мы будем проверять модель в процессе подборки гиперпараметров.\n",
    "- Тестовую: на которой протестируем выбранную готовую модель.\n",
    "\n",
    "Разделение произведём в соотношении 3:1:1, тоесть 60% - тренировочная выборка и по 20% валидационная и тестовая выборки."
   ]
  },
  {
   "cell_type": "code",
   "execution_count": 19,
   "metadata": {},
   "outputs": [],
   "source": [
    "features_train, features_rest, target_train, target_rest = train_test_split(\n",
    "    features, target, train_size=0.6, random_state=12345, stratify=target)"
   ]
  },
  {
   "cell_type": "code",
   "execution_count": 20,
   "metadata": {},
   "outputs": [
    {
     "name": "stdout",
     "output_type": "stream",
     "text": [
      "(5454, 11)\n",
      "(3637, 11)\n",
      "(5454,)\n",
      "(3637,)\n"
     ]
    }
   ],
   "source": [
    "print(features_train.shape)\n",
    "print(features_rest.shape)\n",
    "print(target_train.shape)\n",
    "print(target_rest.shape)"
   ]
  },
  {
   "cell_type": "code",
   "execution_count": 21,
   "metadata": {},
   "outputs": [],
   "source": [
    "features_valid, features_test, target_valid, target_test = train_test_split(\n",
    "    features_rest, target_rest, test_size=0.5, random_state=12345, stratify=target_rest)"
   ]
  },
  {
   "cell_type": "code",
   "execution_count": 22,
   "metadata": {},
   "outputs": [
    {
     "name": "stdout",
     "output_type": "stream",
     "text": [
      "(1818, 11)\n",
      "(1819, 11)\n",
      "(1818,)\n",
      "(1819,)\n"
     ]
    }
   ],
   "source": [
    "print(features_valid.shape)\n",
    "print(features_test.shape)\n",
    "print(target_valid.shape)\n",
    "print(target_test.shape)"
   ]
  },
  {
   "cell_type": "code",
   "execution_count": 23,
   "metadata": {},
   "outputs": [],
   "source": [
    "features_train_val = pd.concat([features_train, features_valid])\n",
    "target_train_val = pd.concat([target_train, target_valid])"
   ]
  },
  {
   "cell_type": "code",
   "execution_count": 24,
   "metadata": {},
   "outputs": [
    {
     "name": "stdout",
     "output_type": "stream",
     "text": [
      "(7272, 11)\n",
      "(7272,)\n"
     ]
    }
   ],
   "source": [
    "print(features_train_val.shape)\n",
    "print(target_train_val.shape)"
   ]
  },
  {
   "cell_type": "markdown",
   "metadata": {},
   "source": [
    "Сделали разбитие, проверили размеры - всё корректно. Получили три выборки, а так же собрали четвертую соединив тренировочную и валидационную выборки. Данная выборка нам пригодится для подбора параметров с помощью кросс-валидации.\n",
    "\n",
    "**Масштабирование**\n",
    "\n",
    "Сделаем масштабирование признаков, для уравнивания их веса в процессе обучения модели."
   ]
  },
  {
   "cell_type": "code",
   "execution_count": 25,
   "metadata": {},
   "outputs": [],
   "source": [
    "numeric = ['CreditScore',\n",
    "           'Age',\n",
    "           'Tenure',\n",
    "           'Balance',\n",
    "           'NumOfProducts',\n",
    "           'HasCrCard',\n",
    "           'IsActiveMember',\n",
    "           'EstimatedSalary',\n",
    "          ]"
   ]
  },
  {
   "cell_type": "code",
   "execution_count": 26,
   "metadata": {},
   "outputs": [],
   "source": [
    "pd.options.mode.chained_assignment = None\n",
    "scaler = StandardScaler()\n",
    "scaler.fit(features_train[numeric])\n",
    "features_train[numeric] = scaler.transform(features_train[numeric])\n",
    "features_valid[numeric] = scaler.transform(features_valid[numeric])\n",
    "features_test[numeric] = scaler.transform(features_test[numeric])\n",
    "features_train_val[numeric] = scaler.transform(features_train_val[numeric])"
   ]
  },
  {
   "cell_type": "markdown",
   "metadata": {},
   "source": [
    "<a id='prep_conclusion'></a>\n",
    "### Выводы по подготовке данных\n",
    "\n",
    "Изучили полученные данные. \n",
    "- Обнаружили в них пропуски, от их пришлось избавится из-за невозможности их корректно восстановить. \n",
    "- В данных есть дисбаланс целевого признака - 80%/20%. В дальнейшем построим модели как учитывающие так и нет данный дисбаланс. \n",
    "- Удалили ненужные для построения модели стобцы - `RowNumber`, `CustomerId`, `Surname`.\n",
    "- Преобразовали все категориальные признаки в численные с помощью техники прямого кодирования (OHE).\n",
    "- Разбили данные на выборки в соотношении 3:1:1 (60%/20%/20%):\n",
    " - Тренировочная - для обучения модели (60%).\n",
    " - Валидационная - для проверки модели в процессе обучения и помощи в выборе гиперпараметров (20%).\n",
    " - Тестовая -  на которой мы будет проверять нашу готовую модель. (20%)\n",
    " - Так же сделали выборку для подбора и обучения модели с помощью кросс-валидации, для этой техники отдельная валидационная выборка не нужна, поэтому соединили тренировочную и валидационную.\n",
    "- Сделали масштабирование признаков чтобы уровнять их вес."
   ]
  },
  {
   "cell_type": "markdown",
   "metadata": {},
   "source": [
    "<a id='research'></a>\n",
    "## Исследование задачи"
   ]
  },
  {
   "cell_type": "markdown",
   "metadata": {},
   "source": [
    "Подготовили данные для модели. На данный момент дисбаланс целевого признака проигнорировали. Посмотрим каких результатов мы сможем добится таким образом, а потом поработаем над балансировкой."
   ]
  },
  {
   "cell_type": "markdown",
   "metadata": {},
   "source": [
    "<a id='dummy'></a>\n",
    "### \"Глупая\" модель\n",
    "\n",
    "Для начала посмотрим на глупую модель, которая будет игнорировать входящие признаки, вместо этого предсказание будет делаться случайным образом. Гиперпараметр strategy укажем most_frequent, теперь модель будет всегда давать в качестве ответа самый часто встречающийся целовой признак в процессе обучения."
   ]
  },
  {
   "cell_type": "code",
   "execution_count": 27,
   "metadata": {},
   "outputs": [
    {
     "name": "stdout",
     "output_type": "stream",
     "text": [
      "Тренировочная выборка: 0.7961129446277961\n",
      "Валидационная выборка: 0.7959295929592959\n",
      "F1: 0.0\n",
      "Матрица ошибок:\n",
      "[[1447    0]\n",
      " [ 371    0]]\n"
     ]
    }
   ],
   "source": [
    "dummy = DummyClassifier(random_state=12345, strategy=\"most_frequent\")\n",
    "dummy.fit(features_train, target_train)\n",
    "dummy_predicted_train = dummy.predict(features_train)\n",
    "dummy_predicted_valid = dummy.predict(features_valid)\n",
    "\n",
    "print('Тренировочная выборка:', dummy.score(features_train, target_train))\n",
    "print('Валидационная выборка:', dummy.score(features_valid, target_valid))\n",
    "print('F1:', f1_score(target_valid, dummy_predicted_valid))\n",
    "print('Матрица ошибок:')\n",
    "print(confusion_matrix(target_valid, dummy_predicted_valid))"
   ]
  },
  {
   "cell_type": "markdown",
   "metadata": {},
   "source": [
    "Данная модель показала accuracy 0.80 что ожидаемо из-за дисбаланса данных."
   ]
  },
  {
   "cell_type": "markdown",
   "metadata": {},
   "source": [
    "<a id='lr'></a>\n",
    "### Логистическая Регрессия"
   ]
  },
  {
   "cell_type": "markdown",
   "metadata": {},
   "source": [
    "Посмотрим какие результаты покажет логистическая регрессия."
   ]
  },
  {
   "cell_type": "code",
   "execution_count": 28,
   "metadata": {},
   "outputs": [
    {
     "name": "stdout",
     "output_type": "stream",
     "text": [
      "Accuracy на валидационной выборке: 0.7095709570957096\n",
      "F1 на валидационной выборке: 0.5065420560747663 \n",
      "\n",
      "Матрица ошибок:\n",
      "[[1019  428]\n",
      " [ 100  271]]\n"
     ]
    },
    {
     "data": {
      "image/png": "[encoded data removed]",
      "text/plain": [
       "<Figure size 432x432 with 1 Axes>"
      ]
     },
     "metadata": {
      "needs_background": "light"
     },
     "output_type": "display_data"
    },
    {
     "name": "stdout",
     "output_type": "stream",
     "text": [
      "AUC-ROC на валидационной выборке: 0.7907260490614472\n"
     ]
    }
   ],
   "source": [
    "logreg_model = LogisticRegression(solver='liblinear', random_state=12345, class_weight='balanced')\n",
    "logreg_model.fit(features_train, target_train)\n",
    "logreg_predicted_valid = logreg_model.predict(features_valid)\n",
    "\n",
    "probabilities_valid = logreg_model.predict_proba(features_valid)\n",
    "probabilities_one_valid = probabilities_valid[:, 1]\n",
    "\n",
    "fpr, tpr, thresholds = roc_curve(target_valid, probabilities_one_valid)\n",
    "auc_roc_valid = roc_auc_score(target_valid, probabilities_one_valid)\n",
    "\n",
    "print('Accuracy на валидационной выборке:', logreg_model.score(features_valid, target_valid))\n",
    "print('F1 на валидационной выборке:', f1_score(target_valid, logreg_predicted_valid), '\\n')\n",
    "print('Матрица ошибок:' )\n",
    "print(confusion_matrix(target_valid, logreg_predicted_valid))\n",
    "\n",
    "plt.figure(figsize=(6,6))\n",
    "plt.plot(fpr, tpr)\n",
    "plt.xlim([0.0, 1.0])\n",
    "plt.ylim([0.0, 1.0])\n",
    "plt.xlabel('False Positive Rate')\n",
    "plt.ylabel('True Positive Rate')\n",
    "plt.title('ROC-кривая')\n",
    "plt.show()\n",
    "\n",
    "print('AUC-ROC на валидационной выборке:', auc_roc_valid)"
   ]
  },
  {
   "cell_type": "markdown",
   "metadata": {},
   "source": [
    "Логистическая регрессия на несбалансированной валидационной выборке показала следующие результаты:\n",
    "\n",
    "- F1: **0.507**\n",
    "- AUC-ROC: **0.791**\n",
    "\n",
    "Данные результаты нас не устраивают, перейдём к древу решений."
   ]
  },
  {
   "cell_type": "markdown",
   "metadata": {},
   "source": [
    "<a id='dt'></a>\n",
    "### Древо Решений\n",
    "\n",
    "Подберём лучшие параметры для древа решений используя циклы."
   ]
  },
  {
   "cell_type": "code",
   "execution_count": 29,
   "metadata": {
    "scrolled": false
   },
   "outputs": [
    {
     "name": "stdout",
     "output_type": "stream",
     "text": [
      "Лучшая модель: DecisionTreeClassifier(max_depth=9, max_leaf_nodes=46, min_samples_leaf=10,\n",
      "                       random_state=12345) \n",
      "\n",
      "F1 лучшей модели на валидационной выборке: 0.6094946401225114 \n",
      "\n",
      "Матрица ошибок:\n",
      "[[1373   74]\n",
      " [ 207  164]]\n"
     ]
    },
    {
     "data": {
      "image/png": "[encoded data removed]",
      "text/plain": [
       "<Figure size 432x432 with 1 Axes>"
      ]
     },
     "metadata": {
      "needs_background": "light"
     },
     "output_type": "display_data"
    },
    {
     "name": "stdout",
     "output_type": "stream",
     "text": [
      "AUC-ROC на валидационной выборке: 0.8306348109388882\n",
      "CPU times: total: 6min 33s\n",
      "Wall time: 6min 33s\n"
     ]
    }
   ],
   "source": [
    "%%time\n",
    "\n",
    "weights = ['balanced', None]\n",
    "\n",
    "dt_model = None\n",
    "dt_result = 0\n",
    "for depth in range(1, 21):\n",
    "    for leafs in range(2, 51):\n",
    "        for samp_leafs in range(1, 21):\n",
    "            for weight in weights:\n",
    "                model = DecisionTreeClassifier(random_state=12345,\n",
    "                                               class_weight=weight,\n",
    "                                               max_depth=depth,\n",
    "                                               max_leaf_nodes=leafs,\n",
    "                                               min_samples_leaf=samp_leafs)\n",
    "                model.fit(features_train, target_train)\n",
    "                predictions_valid = model.predict(features_valid)\n",
    "                result = f1_score(target_valid, predictions_valid)\n",
    "                if result > dt_result:\n",
    "                    dt_model = model\n",
    "                    dt_result = result\n",
    "\n",
    "probabilities_valid = dt_model.predict_proba(features_valid)\n",
    "probabilities_one_valid = probabilities_valid[:, 1]\n",
    "\n",
    "fpr, tpr, thresholds = roc_curve(target_valid, probabilities_one_valid)\n",
    "auc_roc_valid = roc_auc_score(target_valid, probabilities_one_valid)\n",
    "\n",
    "print(\"Лучшая модель:\", dt_model, '\\n')\n",
    "print(\"F1 лучшей модели на валидационной выборке:\", dt_result, '\\n')\n",
    "print('Матрица ошибок:')\n",
    "print(confusion_matrix(target_valid, predictions_valid))\n",
    "\n",
    "plt.figure(figsize=(6,6))\n",
    "plt.plot(fpr, tpr)\n",
    "plt.xlim([0.0, 1.0])\n",
    "plt.ylim([0.0, 1.0])\n",
    "plt.xlabel('False Positive Rate')\n",
    "plt.ylabel('True Positive Rate')\n",
    "plt.title('ROC-кривая')\n",
    "plt.show()\n",
    "\n",
    "print('AUC-ROC на валидационной выборке:', auc_roc_valid)"
   ]
  },
  {
   "cell_type": "markdown",
   "metadata": {},
   "source": [
    "Древо решений со следующими параметрами: (max_depth=9, max_leaf_nodes=46, min_samples_leaf=10, random_state=12345) на несбалансированной валидационной выборке показало следующие результаты:\n",
    "\n",
    "- F1: **0.609**\n",
    "- AUC-ROC: **0.831**\n",
    "\n",
    "Результаты уже лучше чем у логистической регресии. Перейдём к случайному лесу."
   ]
  },
  {
   "cell_type": "markdown",
   "metadata": {},
   "source": [
    "<a id='rf'></a>\n",
    "### Случайный Лес\n",
    "\n",
    "Подберём лучшие параметры для слуйного леса используя циклы."
   ]
  },
  {
   "cell_type": "code",
   "execution_count": 30,
   "metadata": {},
   "outputs": [
    {
     "name": "stdout",
     "output_type": "stream",
     "text": [
      "Лучшая модель: RandomForestClassifier(class_weight='balanced', max_depth=9, n_estimators=230,\n",
      "                       random_state=12345)\n",
      "\n",
      "F1 лучшей модели на валидационной выборке: 0.6555697823303457\n",
      "\n",
      "Матрица ошибок:\n",
      "[[1394   53]\n",
      " [ 191  180]]\n"
     ]
    },
    {
     "data": {
      "image/png": "[encoded data removed]",
      "text/plain": [
       "<Figure size 432x432 with 1 Axes>"
      ]
     },
     "metadata": {
      "needs_background": "light"
     },
     "output_type": "display_data"
    },
    {
     "name": "stdout",
     "output_type": "stream",
     "text": [
      "AUC-ROC на валидационной выборке: 0.8770259874039978\n",
      "CPU times: total: 7min 8s\n",
      "Wall time: 7min 8s\n"
     ]
    }
   ],
   "source": [
    "%%time\n",
    "\n",
    "weights = ['balanced', None]\n",
    "\n",
    "rf_model = None\n",
    "rf_result = 0\n",
    "for est in range(100, 251, 10):\n",
    "    for depth in range(1, 41, 2):\n",
    "        for weight in weights:\n",
    "            model = RandomForestClassifier(random_state=12345,\n",
    "                                           class_weight=weight,\n",
    "                                           n_estimators=est,\n",
    "                                           max_depth=depth)\n",
    "            model.fit(features_train, target_train)\n",
    "            predicted_valid = model.predict(features_valid)\n",
    "            result = f1_score(target_valid, predicted_valid)\n",
    "            if result > rf_result:\n",
    "                rf_model = model\n",
    "                rf_result = result\n",
    "\n",
    "probabilities_valid = rf_model.predict_proba(features_valid)\n",
    "probabilities_one_valid = probabilities_valid[:, 1]\n",
    "\n",
    "fpr, tpr, thresholds = roc_curve(target_valid, probabilities_one_valid)\n",
    "auc_roc_valid = roc_auc_score(target_valid, probabilities_one_valid)\n",
    "\n",
    "print(\"Лучшая модель:\", rf_model)\n",
    "print('')\n",
    "print(\"F1 лучшей модели на валидационной выборке:\", rf_result)\n",
    "print('')\n",
    "print('Матрица ошибок:')\n",
    "print(confusion_matrix(target_valid, predicted_valid))\n",
    "\n",
    "plt.figure(figsize=(6,6))\n",
    "plt.plot(fpr, tpr)\n",
    "plt.xlim([0.0, 1.0])\n",
    "plt.ylim([0.0, 1.0])\n",
    "plt.xlabel('False Positive Rate')\n",
    "plt.ylabel('True Positive Rate')\n",
    "plt.title('ROC-кривая')\n",
    "plt.show()\n",
    "\n",
    "print('AUC-ROC на валидационной выборке:', auc_roc_valid)"
   ]
  },
  {
   "cell_type": "markdown",
   "metadata": {},
   "source": [
    "Случайный лес со следующими параметрами: (class_weight='balanced', max_depth=9, n_estimators=230, random_state=12345) на несбалансированной валидационной выборке показала следующие результаты:\n",
    "\n",
    "- F1: **0.656**\n",
    "- AUC-ROC: **0.877**\n",
    "\n",
    "Результаты намного лучше чем у логистической регрессии и древа решений. Будем использовать случайный лес."
   ]
  },
  {
   "cell_type": "markdown",
   "metadata": {},
   "source": [
    "<a id='cv'></a>\n",
    "### Кросс-валидация\n",
    "\n",
    "Попробуем подобрать гиперпараметры для случйаного леса используя кросс-валидацию GridSearchCV."
   ]
  },
  {
   "cell_type": "code",
   "execution_count": 31,
   "metadata": {},
   "outputs": [],
   "source": [
    "n_estimators = []\n",
    "max_depth = []\n",
    "\n",
    "\n",
    "for est in range(100, 251, 10):\n",
    "    n_estimators.append(est)\n",
    "for depth in range(1, 21, 2):\n",
    "    max_depth.append(depth)"
   ]
  },
  {
   "cell_type": "code",
   "execution_count": 32,
   "metadata": {},
   "outputs": [],
   "source": [
    "rf = RandomForestClassifier()\n",
    "params = {\n",
    "    'random_state': [12345],\n",
    "    'class_weight':['balanced', None],\n",
    "    'n_estimators': n_estimators,\n",
    "    'max_depth': max_depth\n",
    "         }\n",
    "\n",
    "rf_clf = GridSearchCV(\n",
    "    estimator=rf,\n",
    "    param_grid=params,\n",
    "    cv=5,\n",
    "    scoring='f1'\n",
    ")"
   ]
  },
  {
   "cell_type": "code",
   "execution_count": 33,
   "metadata": {},
   "outputs": [
    {
     "name": "stdout",
     "output_type": "stream",
     "text": [
      "CPU times: total: 16min\n",
      "Wall time: 16min\n"
     ]
    },
    {
     "data": {
      "text/plain": [
       "GridSearchCV(cv=5, estimator=RandomForestClassifier(),\n",
       "             param_grid={'class_weight': ['balanced', None],\n",
       "                         'max_depth': [1, 3, 5, 7, 9, 11, 13, 15, 17, 19],\n",
       "                         'n_estimators': [100, 110, 120, 130, 140, 150, 160,\n",
       "                                          170, 180, 190, 200, 210, 220, 230,\n",
       "                                          240, 250],\n",
       "                         'random_state': [12345]},\n",
       "             scoring='f1')"
      ]
     },
     "execution_count": 33,
     "metadata": {},
     "output_type": "execute_result"
    }
   ],
   "source": [
    "%%time\n",
    "rf_clf.fit(features_train_val, target_train_val)"
   ]
  },
  {
   "cell_type": "code",
   "execution_count": 34,
   "metadata": {},
   "outputs": [
    {
     "name": "stdout",
     "output_type": "stream",
     "text": [
      "RandomForestClassifier(class_weight='balanced', max_depth=9, n_estimators=230,\n",
      "                       random_state=12345)\n",
      "F1 модели: 0.6288849304871543\n"
     ]
    }
   ],
   "source": [
    "print(rf_clf.best_estimator_)\n",
    "print(\"F1 модели:\", rf_clf.best_score_)"
   ]
  },
  {
   "cell_type": "markdown",
   "metadata": {},
   "source": [
    "С помощью кросс-валидации получили те же параметры как и при переборе циклами. Случайный лес (class_weight='balanced', max_depth=9, n_estimators=230, random_state=12345)"
   ]
  },
  {
   "cell_type": "markdown",
   "metadata": {},
   "source": [
    "<a id='res_coclusion'></a>\n",
    "### Выводы по исследованию\n",
    "\n",
    "На несбалансирвоанных данных проверили следующие модели: Логистическая Регрессия, Древо Решений, Случайный Лес. Лучший результат показал случайный лес. Так же использовали кросс-валидацию на случайном лесе и получили аналогичные результаты как и без неё.\n",
    "\n",
    "Лучший результат на валидационной выборке на данный момент: **F1 - 0.656, AUC-ROC: 0.877**. Попробем поработать на балансировкой с целью улучшить результат."
   ]
  },
  {
   "cell_type": "markdown",
   "metadata": {},
   "source": [
    "<a id='balance'></a>\n",
    "## Борьба с дисбалансом\n",
    "\n",
    "Попробуем несколько вариантов балансировки, upsampling и downsampling."
   ]
  },
  {
   "cell_type": "markdown",
   "metadata": {},
   "source": [
    "<a id='upsampling'></a>\n",
    "### Upsampling\n",
    "С помощью этого метода мы увеличим в выборке количество класса который недостаточно представлен (1). Напишем функцию upsample."
   ]
  },
  {
   "cell_type": "code",
   "execution_count": 35,
   "metadata": {},
   "outputs": [],
   "source": [
    "def upsample(features, target, repeat): # В качестве аргументов функция будет принимать: признаки, целевой признак и во сколько раз умножить 1 класс\n",
    "    features_zeros = features[target == 0] # Выделяем признаки 0 класса\n",
    "    features_ones = features[target == 1] # Выделяем признаки 1 класса\n",
    "    target_zeros = target[target == 0] # Выделяем целевой признак 0 класса\n",
    "    target_ones = target[target == 1] # Выделяем целевой признак 1 класса\n",
    "\n",
    "    features_upsampled = pd.concat([features_zeros] + [features_ones] * repeat) # Умножаем признаки 1 класса и соединяем оба класса\n",
    "    target_upsampled = pd.concat([target_zeros] + [target_ones] * repeat) # Умножаем целевой признак 1 класса и соединяем оба класса\n",
    "    \n",
    "    features_upsampled, target_upsampled = shuffle(\n",
    "        features_upsampled, target_upsampled, random_state=12345) # Перемешиваем данные\n",
    "    \n",
    "    return features_upsampled, target_upsampled"
   ]
  },
  {
   "cell_type": "markdown",
   "metadata": {},
   "source": [
    "Применим функцию для тестовой выборки и посмотрим на баланс классов."
   ]
  },
  {
   "cell_type": "code",
   "execution_count": 36,
   "metadata": {},
   "outputs": [
    {
     "data": {
      "text/plain": [
       "1    0.50603\n",
       "0    0.49397\n",
       "Name: Exited, dtype: float64"
      ]
     },
     "execution_count": 36,
     "metadata": {},
     "output_type": "execute_result"
    }
   ],
   "source": [
    "features_upsampled, target_upsampled = upsample(features_train, target_train, 4)\n",
    "target_upsampled.value_counts(normalize=True)"
   ]
  },
  {
   "cell_type": "code",
   "execution_count": 37,
   "metadata": {},
   "outputs": [
    {
     "data": {
      "text/plain": [
       "1    0.50603\n",
       "0    0.49397\n",
       "Name: Exited, dtype: float64"
      ]
     },
     "execution_count": 37,
     "metadata": {},
     "output_type": "execute_result"
    }
   ],
   "source": [
    "features_train_val_upsampled, target_train_val_upsampled = upsample(features_train_val, target_train_val, 4)\n",
    "target_upsampled.value_counts(normalize=True)"
   ]
  },
  {
   "cell_type": "markdown",
   "metadata": {},
   "source": [
    "Теперь оба класса представлены равнозначно."
   ]
  },
  {
   "cell_type": "markdown",
   "metadata": {},
   "source": [
    "На увеличенной тестовой выборке подберём параметры для случайного леса."
   ]
  },
  {
   "cell_type": "code",
   "execution_count": 38,
   "metadata": {
    "scrolled": false
   },
   "outputs": [
    {
     "name": "stdout",
     "output_type": "stream",
     "text": [
      "Лучшая модель: RandomForestClassifier(class_weight='balanced', max_depth=11, n_estimators=200,\n",
      "                       random_state=12345)\n",
      "\n",
      "F1 лучшей модели на валидационной выборке: 0.6463104325699747\n",
      "\n",
      "Матрица ошибок:\n",
      "[[1345  102]\n",
      " [ 154  217]]\n"
     ]
    },
    {
     "data": {
      "image/png": "[encoded data removed]",
      "text/plain": [
       "<Figure size 432x288 with 1 Axes>"
      ]
     },
     "metadata": {
      "needs_background": "light"
     },
     "output_type": "display_data"
    },
    {
     "name": "stdout",
     "output_type": "stream",
     "text": [
      "AUC-ROC на валидационной выборке: 0.8727639860888874\n",
      "CPU times: total: 10min 7s\n",
      "Wall time: 10min 7s\n"
     ]
    }
   ],
   "source": [
    "%%time\n",
    "\n",
    "weights = ['balanced', None]\n",
    "\n",
    "rf_upsampled_model = None\n",
    "rf_upsampled_result = 0\n",
    "for est in range(100, 251, 10):\n",
    "    for depth in range(1, 41, 2):\n",
    "        for weight in weights:\n",
    "                model = RandomForestClassifier(random_state=12345,\n",
    "                                               class_weight=weight,\n",
    "                                               n_estimators=est,\n",
    "                                               max_depth=depth,)\n",
    "                model.fit(features_upsampled, target_upsampled)\n",
    "                predicted_valid = model.predict(features_valid)\n",
    "                result = f1_score(target_valid, predicted_valid)\n",
    "                if result > rf_upsampled_result:\n",
    "                    rf_upsampled_model = model\n",
    "                    rf_upsampled_result = result\n",
    "\n",
    "probabilities_valid = rf_upsampled_model.predict_proba(features_valid)\n",
    "probabilities_one_valid = probabilities_valid[:, 1]\n",
    "\n",
    "fpr, tpr, thresholds = roc_curve(target_valid, probabilities_one_valid)\n",
    "auc_roc_valid = roc_auc_score(target_valid, probabilities_one_valid)\n",
    "\n",
    "print(\"Лучшая модель:\", rf_upsampled_model)\n",
    "print('')\n",
    "print(\"F1 лучшей модели на валидационной выборке:\", rf_upsampled_result)\n",
    "print('')\n",
    "print('Матрица ошибок:')\n",
    "print(confusion_matrix(target_valid, predicted_valid))\n",
    "\n",
    "plt.figure()\n",
    "plt.plot(fpr, tpr)\n",
    "plt.xlim([0.0, 1.0])\n",
    "plt.ylim([0.0, 1.0])\n",
    "plt.xlabel('False Positive Rate')\n",
    "plt.ylabel('True Positive Rate')\n",
    "plt.title('ROC-кривая')\n",
    "plt.show()\n",
    "\n",
    "print('AUC-ROC на валидационной выборке:', auc_roc_valid)"
   ]
  },
  {
   "cell_type": "markdown",
   "metadata": {},
   "source": [
    "На сбалансированной с помощью увеличения выборки не удалось добится улучшения результатов на валидационной выборке.\n",
    "\n",
    "Лучший результат у модели со следующими параметрами: (class_weight='balanced', max_depth=11, n_estimators=200, random_state=12345)\n",
    "\n",
    "- F1: **0.646**\n",
    "- AUC-ROC: **0.873**\n",
    "\n",
    "Теперь попробуем подобрать параметры с помощью GridSearchCV."
   ]
  },
  {
   "cell_type": "code",
   "execution_count": 39,
   "metadata": {},
   "outputs": [],
   "source": [
    "rf_upsampled_clf = GridSearchCV(\n",
    "    estimator=rf,\n",
    "    param_grid=params,\n",
    "    cv=5,\n",
    "    scoring='f1'\n",
    ")"
   ]
  },
  {
   "cell_type": "code",
   "execution_count": 40,
   "metadata": {},
   "outputs": [
    {
     "name": "stdout",
     "output_type": "stream",
     "text": [
      "CPU times: total: 23min 20s\n",
      "Wall time: 23min 20s\n"
     ]
    },
    {
     "data": {
      "text/plain": [
       "GridSearchCV(cv=5, estimator=RandomForestClassifier(),\n",
       "             param_grid={'class_weight': ['balanced', None],\n",
       "                         'max_depth': [1, 3, 5, 7, 9, 11, 13, 15, 17, 19],\n",
       "                         'n_estimators': [100, 110, 120, 130, 140, 150, 160,\n",
       "                                          170, 180, 190, 200, 210, 220, 230,\n",
       "                                          240, 250],\n",
       "                         'random_state': [12345]},\n",
       "             scoring='f1')"
      ]
     },
     "execution_count": 40,
     "metadata": {},
     "output_type": "execute_result"
    }
   ],
   "source": [
    "%%time\n",
    "rf_upsampled_clf.fit(features_train_val_upsampled, target_train_val_upsampled)"
   ]
  },
  {
   "cell_type": "code",
   "execution_count": 41,
   "metadata": {},
   "outputs": [
    {
     "name": "stdout",
     "output_type": "stream",
     "text": [
      "RandomForestClassifier(class_weight='balanced', max_depth=19, n_estimators=120,\n",
      "                       random_state=12345)\n",
      "F1 модели: 0.9576759251596025\n"
     ]
    }
   ],
   "source": [
    "print(rf_upsampled_clf.best_estimator_)\n",
    "print(\"F1 модели:\", rf_upsampled_clf.best_score_)"
   ]
  },
  {
   "cell_type": "markdown",
   "metadata": {},
   "source": [
    "На сбалансированной с помощью увеличения выборки, кросс-валидацией удалось подобрать гиперпараметры на которых получаем результат **F1 - 0.958**"
   ]
  },
  {
   "cell_type": "markdown",
   "metadata": {},
   "source": [
    "<a id='downsampling'></a>\n",
    "### Downsampling\n",
    "\n",
    "Попробуем уменьшить в выборке более представленный класс (0). Напишем функцию downsample."
   ]
  },
  {
   "cell_type": "code",
   "execution_count": 42,
   "metadata": {},
   "outputs": [],
   "source": [
    "def downsample(features, target, fraction): # В качестве аргументов функция будет принимать: признаки, целевой признак и какую долю от 0 класса оставить\n",
    "    features_zeros = features[target == 0] # Выделяем признаки 0 класса\n",
    "    features_ones = features[target == 1] # Выделяем признаки 1 класса\n",
    "    target_zeros = target[target == 0] # Выделяем целевой признак 0 класса\n",
    "    target_ones = target[target == 1] # Выделяем целевой признак 1 класса\n",
    "\n",
    "    features_downsampled = pd.concat(\n",
    "        [features_zeros.sample(frac=fraction, random_state=12345)] + [features_ones]) # Методом pandas .sample оставим только указанную долю от 0 класса, после этого соединяем оба класса \n",
    "    target_downsampled = pd.concat(\n",
    "        [target_zeros.sample(frac=fraction, random_state=12345)] + [target_ones]) # Методом pandas .sample оставим только указанную долю от 0 класса, после этого соединяем оба класса\n",
    "    \n",
    "    features_downsampled, target_downsampled = shuffle(\n",
    "        features_downsampled, target_downsampled, random_state=12345) # Перемешиваем данные\n",
    "    \n",
    "    return features_downsampled, target_downsampled"
   ]
  },
  {
   "cell_type": "markdown",
   "metadata": {},
   "source": [
    "Применим функцию для тестовой выборки и посмотрим на баланс классов."
   ]
  },
  {
   "cell_type": "code",
   "execution_count": 43,
   "metadata": {},
   "outputs": [
    {
     "data": {
      "text/plain": [
       "0    0.500898\n",
       "1    0.499102\n",
       "Name: Exited, dtype: float64"
      ]
     },
     "execution_count": 43,
     "metadata": {},
     "output_type": "execute_result"
    }
   ],
   "source": [
    "features_downsampled, target_downsampled = downsample(features_train, target_train, 0.257)\n",
    "target_downsampled.value_counts(normalize=True)"
   ]
  },
  {
   "cell_type": "code",
   "execution_count": 44,
   "metadata": {},
   "outputs": [
    {
     "data": {
      "text/plain": [
       "1    0.50603\n",
       "0    0.49397\n",
       "Name: Exited, dtype: float64"
      ]
     },
     "execution_count": 44,
     "metadata": {},
     "output_type": "execute_result"
    }
   ],
   "source": [
    "features_train_val_downsampled, target_train_val_downsampled = downsample(features_train_val, target_train_val, 0.257)\n",
    "target_upsampled.value_counts(normalize=True)"
   ]
  },
  {
   "cell_type": "markdown",
   "metadata": {},
   "source": [
    "Теперь оба класса представлены равнозначно."
   ]
  },
  {
   "cell_type": "markdown",
   "metadata": {},
   "source": [
    "На уменьшенной тестовой выборке подберём параметры для случайного леса."
   ]
  },
  {
   "cell_type": "code",
   "execution_count": 45,
   "metadata": {
    "scrolled": false
   },
   "outputs": [
    {
     "name": "stdout",
     "output_type": "stream",
     "text": [
      "Лучшая модель: RandomForestClassifier(class_weight='balanced', max_depth=13, n_estimators=160,\n",
      "                       random_state=12345)\n",
      "\n",
      "F1 лучшей модели на валидационной выборке: 0.623541887592789\n",
      "\n",
      "Матрица ошибок:\n",
      "[[1143  304]\n",
      " [  77  294]]\n"
     ]
    },
    {
     "data": {
      "image/png": "[encoded data removed]",
      "text/plain": [
       "<Figure size 432x288 with 1 Axes>"
      ]
     },
     "metadata": {
      "needs_background": "light"
     },
     "output_type": "display_data"
    },
    {
     "name": "stdout",
     "output_type": "stream",
     "text": [
      "AUC-ROC на валидационной выборке: 0.8786186496087267\n",
      "CPU times: total: 2min 43s\n",
      "Wall time: 2min 43s\n"
     ]
    }
   ],
   "source": [
    "%%time\n",
    "\n",
    "weights = ['balanced', None]\n",
    "\n",
    "rf_downsampled_model = None\n",
    "rf_downsampled_result = 0\n",
    "for est in range(100, 251, 10):\n",
    "    for depth in range(1, 31, 2):\n",
    "         for weight in weights:\n",
    "            model = RandomForestClassifier(random_state=12345,\n",
    "                                           class_weight=weight,\n",
    "                                           n_estimators=est,\n",
    "                                           max_depth=depth)\n",
    "            model.fit(features_downsampled, target_downsampled)\n",
    "            predicted_valid = model.predict(features_valid)\n",
    "            result = f1_score(target_valid, predicted_valid)\n",
    "            if result > rf_downsampled_result:\n",
    "                rf_downsampled_model = model\n",
    "                rf_downsampled_result = result\n",
    "\n",
    "probabilities_valid = rf_downsampled_model.predict_proba(features_valid)\n",
    "probabilities_one_valid = probabilities_valid[:, 1]\n",
    "\n",
    "fpr, tpr, thresholds = roc_curve(target_valid, probabilities_one_valid)\n",
    "auc_roc_valid = roc_auc_score(target_valid, probabilities_one_valid)\n",
    "\n",
    "print(\"Лучшая модель:\", rf_downsampled_model)\n",
    "print('')\n",
    "print(\"F1 лучшей модели на валидационной выборке:\", rf_downsampled_result)\n",
    "print('')\n",
    "print('Матрица ошибок:')\n",
    "print(confusion_matrix(target_valid, predicted_valid))\n",
    "\n",
    "plt.figure()\n",
    "plt.plot(fpr, tpr)\n",
    "plt.xlim([0.0, 1.0])\n",
    "plt.ylim([0.0, 1.0])\n",
    "plt.xlabel('False Positive Rate')\n",
    "plt.ylabel('True Positive Rate')\n",
    "plt.title('ROC-кривая')\n",
    "plt.show()\n",
    "\n",
    "print('AUC-ROC на валидационной выборке:', auc_roc_valid)"
   ]
  },
  {
   "cell_type": "markdown",
   "metadata": {},
   "source": [
    "На сбалансированной с помощью уменьшения выборки не удалось добится улучшения результатов на валидационной выборке.\n",
    "\n",
    "Лучший результат у модели со следующими параметрами: (class_weight='balanced', max_depth=13, n_estimators=160, random_state=12345)\n",
    "\n",
    "- F1: **0.624**\n",
    "- AUC-ROC: **0.879**\n",
    "\n",
    "Теперь попробуем подобрать параметры с помощью GridSearchCV."
   ]
  },
  {
   "cell_type": "code",
   "execution_count": 46,
   "metadata": {},
   "outputs": [],
   "source": [
    "rf_downsampled_clf = GridSearchCV(\n",
    "    estimator=rf,\n",
    "    param_grid=params,\n",
    "    cv=5,\n",
    "    scoring='f1'\n",
    ")"
   ]
  },
  {
   "cell_type": "code",
   "execution_count": 47,
   "metadata": {},
   "outputs": [
    {
     "name": "stdout",
     "output_type": "stream",
     "text": [
      "CPU times: total: 8min 22s\n",
      "Wall time: 8min 22s\n"
     ]
    },
    {
     "data": {
      "text/plain": [
       "GridSearchCV(cv=5, estimator=RandomForestClassifier(),\n",
       "             param_grid={'class_weight': ['balanced', None],\n",
       "                         'max_depth': [1, 3, 5, 7, 9, 11, 13, 15, 17, 19],\n",
       "                         'n_estimators': [100, 110, 120, 130, 140, 150, 160,\n",
       "                                          170, 180, 190, 200, 210, 220, 230,\n",
       "                                          240, 250],\n",
       "                         'random_state': [12345]},\n",
       "             scoring='f1')"
      ]
     },
     "execution_count": 47,
     "metadata": {},
     "output_type": "execute_result"
    }
   ],
   "source": [
    "%%time\n",
    "rf_downsampled_clf.fit(features_train_val_downsampled, target_train_val_downsampled)"
   ]
  },
  {
   "cell_type": "code",
   "execution_count": 48,
   "metadata": {},
   "outputs": [
    {
     "name": "stdout",
     "output_type": "stream",
     "text": [
      "RandomForestClassifier(max_depth=11, n_estimators=110, random_state=12345)\n",
      "F1 модели: 0.7798260533363631\n"
     ]
    }
   ],
   "source": [
    "print(rf_downsampled_clf.best_estimator_)\n",
    "print(\"F1 модели:\", rf_downsampled_clf.best_score_)"
   ]
  },
  {
   "cell_type": "markdown",
   "metadata": {},
   "source": [
    "На сбалансированной с помощью уменьшения выборки, кросс-валидацией удалось подобрать гиперпараметры на которых получаем результат **F1 - 0.780**"
   ]
  },
  {
   "cell_type": "markdown",
   "metadata": {},
   "source": [
    "<a id='int_conclusion'></a>\n",
    "### Промежуточный вывод по балансировке\n",
    "\n",
    "Попробовали сбалансировать выборку с помощью двух методов: увеличинием мало представленного класса(upsampling) и уменьшением более представленного класса(downsampling).\n",
    "\n",
    "Удалось добиться улучшения только при подборе гиперпараметров с помощью кросс-валидации.\n",
    "Лучший результат на тестовых данных получился при использовании upsampling и GridSearchCV. **F1 - 0.958**"
   ]
  },
  {
   "cell_type": "markdown",
   "metadata": {},
   "source": [
    "<a id='threshold'></a>\n",
    "### Измение порога классификации\n",
    "\n",
    "Посмотрим, можем ли мы улучшить результаты на обученных моделей случайного леса с помощью изменения порога классификации."
   ]
  },
  {
   "cell_type": "code",
   "execution_count": 49,
   "metadata": {},
   "outputs": [
    {
     "name": "stdout",
     "output_type": "stream",
     "text": [
      "Порог = 0.00 | Точность = 0.204, Полнота = 1.000, F1 = 0.339\n",
      "Порог = 0.02 | Точность = 0.204, Полнота = 1.000, F1 = 0.339\n",
      "Порог = 0.04 | Точность = 0.204, Полнота = 1.000, F1 = 0.339\n",
      "Порог = 0.06 | Точность = 0.206, Полнота = 1.000, F1 = 0.341\n",
      "Порог = 0.08 | Точность = 0.215, Полнота = 0.997, F1 = 0.354\n",
      "Порог = 0.10 | Точность = 0.228, Полнота = 0.992, F1 = 0.371\n",
      "Порог = 0.12 | Точность = 0.244, Полнота = 0.989, F1 = 0.391\n",
      "Порог = 0.14 | Точность = 0.258, Полнота = 0.987, F1 = 0.409\n",
      "Порог = 0.16 | Точность = 0.273, Полнота = 0.987, F1 = 0.428\n",
      "Порог = 0.18 | Точность = 0.285, Полнота = 0.978, F1 = 0.442\n",
      "Порог = 0.20 | Точность = 0.299, Полнота = 0.962, F1 = 0.456\n",
      "Порог = 0.22 | Точность = 0.313, Полнота = 0.949, F1 = 0.471\n",
      "Порог = 0.24 | Точность = 0.330, Полнота = 0.930, F1 = 0.487\n",
      "Порог = 0.26 | Точность = 0.349, Полнота = 0.922, F1 = 0.506\n",
      "Порог = 0.28 | Точность = 0.371, Полнота = 0.908, F1 = 0.527\n",
      "Порог = 0.30 | Точность = 0.393, Полнота = 0.884, F1 = 0.544\n",
      "Порог = 0.32 | Точность = 0.416, Полнота = 0.871, F1 = 0.563\n",
      "Порог = 0.34 | Точность = 0.431, Полнота = 0.857, F1 = 0.573\n",
      "Порог = 0.36 | Точность = 0.458, Полнота = 0.844, F1 = 0.593\n",
      "Порог = 0.38 | Точность = 0.477, Полнота = 0.814, F1 = 0.602\n",
      "Порог = 0.40 | Точность = 0.495, Полнота = 0.787, F1 = 0.608\n",
      "Порог = 0.42 | Точность = 0.514, Полнота = 0.765, F1 = 0.615\n",
      "Порог = 0.44 | Точность = 0.544, Полнота = 0.747, F1 = 0.630\n",
      "Порог = 0.46 | Точность = 0.567, Полнота = 0.717, F1 = 0.633\n",
      "Порог = 0.48 | Точность = 0.594, Полнота = 0.709, F1 = 0.646\n",
      "Порог = 0.50 | Точность = 0.624, Полнота = 0.690, F1 = 0.656\n",
      "Порог = 0.52 | Точность = 0.637, Полнота = 0.663, F1 = 0.650\n",
      "Порог = 0.54 | Точность = 0.643, Полнота = 0.642, F1 = 0.642\n",
      "Порог = 0.56 | Точность = 0.662, Полнота = 0.606, F1 = 0.633\n",
      "Порог = 0.58 | Точность = 0.688, Полнота = 0.577, F1 = 0.628\n",
      "Порог = 0.60 | Точность = 0.693, Полнота = 0.542, F1 = 0.608\n",
      "Порог = 0.62 | Точность = 0.715, Полнота = 0.515, F1 = 0.599\n",
      "Порог = 0.64 | Точность = 0.739, Полнота = 0.488, F1 = 0.588\n",
      "Порог = 0.66 | Точность = 0.755, Полнота = 0.474, F1 = 0.583\n",
      "Порог = 0.68 | Точность = 0.778, Полнота = 0.445, F1 = 0.566\n",
      "Порог = 0.70 | Точность = 0.800, Полнота = 0.420, F1 = 0.551\n",
      "Порог = 0.72 | Точность = 0.806, Полнота = 0.380, F1 = 0.516\n",
      "Порог = 0.74 | Точность = 0.826, Полнота = 0.358, F1 = 0.500\n",
      "Порог = 0.76 | Точность = 0.833, Полнота = 0.337, F1 = 0.480\n",
      "Порог = 0.78 | Точность = 0.843, Полнота = 0.305, F1 = 0.448\n"
     ]
    }
   ],
   "source": [
    "probabilities_valid = rf_model.predict_proba(features_valid)\n",
    "probabilities_one_valid = probabilities_valid[:, 1]\n",
    "\n",
    "for threshold in np.arange(0, 0.8, 0.02):\n",
    "    predicted_valid = probabilities_one_valid > threshold \n",
    "    precision = precision_score(target_valid, predicted_valid)\n",
    "    recall = recall_score(target_valid, predicted_valid)\n",
    "    f1 = f1_score(target_valid, predicted_valid)\n",
    "\n",
    "    print(\"Порог = {:.2f} | Точность = {:.3f}, Полнота = {:.3f}, F1 = {:.3f}\".format(\n",
    "        threshold, precision, recall, f1))"
   ]
  },
  {
   "cell_type": "markdown",
   "metadata": {},
   "source": [
    "На моделе с дисбалансом стандартный порог 0.5 показывает лучшие результаты, **F1 - 0.656**"
   ]
  },
  {
   "cell_type": "code",
   "execution_count": 50,
   "metadata": {},
   "outputs": [
    {
     "name": "stdout",
     "output_type": "stream",
     "text": [
      "Порог = 0.00 | Точность = 0.204, Полнота = 1.000, F1 = 0.339\n",
      "Порог = 0.02 | Точность = 0.204, Полнота = 1.000, F1 = 0.339\n",
      "Порог = 0.04 | Точность = 0.207, Полнота = 1.000, F1 = 0.343\n",
      "Порог = 0.06 | Точность = 0.220, Полнота = 0.995, F1 = 0.360\n",
      "Порог = 0.08 | Точность = 0.233, Полнота = 0.995, F1 = 0.377\n",
      "Порог = 0.10 | Точность = 0.247, Полнота = 0.992, F1 = 0.396\n",
      "Порог = 0.12 | Точность = 0.264, Полнота = 0.989, F1 = 0.417\n",
      "Порог = 0.14 | Точность = 0.275, Полнота = 0.981, F1 = 0.429\n",
      "Порог = 0.16 | Точность = 0.288, Полнота = 0.970, F1 = 0.444\n",
      "Порог = 0.18 | Точность = 0.297, Полнота = 0.951, F1 = 0.452\n",
      "Порог = 0.20 | Точность = 0.309, Полнота = 0.943, F1 = 0.466\n",
      "Порог = 0.22 | Точность = 0.327, Полнота = 0.935, F1 = 0.484\n",
      "Порог = 0.24 | Точность = 0.342, Полнота = 0.925, F1 = 0.499\n",
      "Порог = 0.26 | Точность = 0.363, Полнота = 0.900, F1 = 0.517\n",
      "Порог = 0.28 | Точность = 0.387, Полнота = 0.881, F1 = 0.537\n",
      "Порог = 0.30 | Точность = 0.404, Полнота = 0.865, F1 = 0.551\n",
      "Порог = 0.32 | Точность = 0.421, Полнота = 0.857, F1 = 0.564\n",
      "Порог = 0.34 | Точность = 0.436, Полнота = 0.838, F1 = 0.574\n",
      "Порог = 0.36 | Точность = 0.458, Полнота = 0.819, F1 = 0.587\n",
      "Порог = 0.38 | Точность = 0.477, Полнота = 0.795, F1 = 0.597\n",
      "Порог = 0.40 | Точность = 0.498, Полнота = 0.784, F1 = 0.609\n",
      "Порог = 0.42 | Точность = 0.520, Полнота = 0.768, F1 = 0.620\n",
      "Порог = 0.44 | Точность = 0.534, Полнота = 0.741, F1 = 0.621\n",
      "Порог = 0.46 | Точность = 0.554, Полнота = 0.714, F1 = 0.624\n",
      "Порог = 0.48 | Точность = 0.586, Полнота = 0.698, F1 = 0.637\n",
      "Порог = 0.50 | Точность = 0.612, Полнота = 0.685, F1 = 0.646\n",
      "Порог = 0.52 | Точность = 0.631, Полнота = 0.650, F1 = 0.640\n",
      "Порог = 0.54 | Точность = 0.644, Полнота = 0.625, F1 = 0.635\n",
      "Порог = 0.56 | Точность = 0.662, Полнота = 0.601, F1 = 0.630\n",
      "Порог = 0.58 | Точность = 0.672, Полнота = 0.580, F1 = 0.622\n",
      "Порог = 0.60 | Точность = 0.691, Полнота = 0.561, F1 = 0.619\n",
      "Порог = 0.62 | Точность = 0.704, Полнота = 0.544, F1 = 0.614\n",
      "Порог = 0.64 | Точность = 0.730, Полнота = 0.526, F1 = 0.611\n",
      "Порог = 0.66 | Точность = 0.742, Полнота = 0.504, F1 = 0.600\n",
      "Порог = 0.68 | Точность = 0.775, Полнота = 0.474, F1 = 0.589\n",
      "Порог = 0.70 | Точность = 0.784, Полнота = 0.431, F1 = 0.557\n",
      "Порог = 0.72 | Точность = 0.796, Полнота = 0.399, F1 = 0.531\n",
      "Порог = 0.74 | Точность = 0.815, Полнота = 0.380, F1 = 0.518\n",
      "Порог = 0.76 | Точность = 0.840, Полнота = 0.369, F1 = 0.513\n",
      "Порог = 0.78 | Точность = 0.850, Полнота = 0.350, F1 = 0.496\n"
     ]
    }
   ],
   "source": [
    "probabilities_valid = rf_upsampled_model.predict_proba(features_valid)\n",
    "probabilities_one_valid = probabilities_valid[:, 1]\n",
    "\n",
    "for threshold in np.arange(0, 0.8, 0.02):\n",
    "    predicted_valid = probabilities_one_valid > threshold \n",
    "    precision = precision_score(target_valid, predicted_valid)\n",
    "    recall = recall_score(target_valid, predicted_valid)\n",
    "    f1 = f1_score(target_valid, predicted_valid)\n",
    "\n",
    "    print(\"Порог = {:.2f} | Точность = {:.3f}, Полнота = {:.3f}, F1 = {:.3f}\".format(\n",
    "        threshold, precision, recall, f1))"
   ]
  },
  {
   "cell_type": "markdown",
   "metadata": {},
   "source": [
    "На увеличенной выборке лучший результат так же со стандартным порогом 0.5, **F1 - 0.646**"
   ]
  },
  {
   "cell_type": "code",
   "execution_count": 51,
   "metadata": {},
   "outputs": [
    {
     "name": "stdout",
     "output_type": "stream",
     "text": [
      "Порог = 0.00 | Точность = 0.204, Полнота = 1.000, F1 = 0.339\n",
      "Порог = 0.02 | Точность = 0.204, Полнота = 1.000, F1 = 0.339\n",
      "Порог = 0.04 | Точность = 0.207, Полнота = 1.000, F1 = 0.344\n",
      "Порог = 0.06 | Точность = 0.215, Полнота = 1.000, F1 = 0.354\n",
      "Порог = 0.08 | Точность = 0.223, Полнота = 0.997, F1 = 0.365\n",
      "Порог = 0.10 | Точность = 0.230, Полнота = 0.992, F1 = 0.374\n",
      "Порог = 0.12 | Точность = 0.240, Полнота = 0.992, F1 = 0.386\n",
      "Порог = 0.14 | Точность = 0.250, Полнота = 0.992, F1 = 0.399\n",
      "Порог = 0.16 | Точность = 0.258, Полнота = 0.987, F1 = 0.408\n",
      "Порог = 0.18 | Точность = 0.265, Полнота = 0.987, F1 = 0.418\n",
      "Порог = 0.20 | Точность = 0.273, Полнота = 0.981, F1 = 0.427\n",
      "Порог = 0.22 | Точность = 0.283, Полнота = 0.978, F1 = 0.439\n",
      "Порог = 0.24 | Точность = 0.293, Полнота = 0.973, F1 = 0.450\n",
      "Порог = 0.26 | Точность = 0.305, Полнота = 0.960, F1 = 0.463\n",
      "Порог = 0.28 | Точность = 0.316, Полнота = 0.943, F1 = 0.473\n",
      "Порог = 0.30 | Точность = 0.328, Полнота = 0.935, F1 = 0.486\n",
      "Порог = 0.32 | Точность = 0.344, Полнота = 0.925, F1 = 0.501\n",
      "Порог = 0.34 | Точность = 0.360, Полнота = 0.919, F1 = 0.518\n",
      "Порог = 0.36 | Точность = 0.375, Полнота = 0.914, F1 = 0.532\n",
      "Порог = 0.38 | Точность = 0.385, Полнота = 0.887, F1 = 0.537\n",
      "Порог = 0.40 | Точность = 0.403, Полнота = 0.879, F1 = 0.553\n",
      "Порог = 0.42 | Точность = 0.418, Полнота = 0.863, F1 = 0.563\n",
      "Порог = 0.44 | Точность = 0.438, Полнота = 0.841, F1 = 0.576\n",
      "Порог = 0.46 | Точность = 0.459, Полнота = 0.825, F1 = 0.590\n",
      "Порог = 0.48 | Точность = 0.483, Полнота = 0.806, F1 = 0.604\n",
      "Порог = 0.50 | Точность = 0.514, Полнота = 0.792, F1 = 0.624\n",
      "Порог = 0.52 | Точность = 0.540, Полнота = 0.776, F1 = 0.637\n",
      "Порог = 0.54 | Точность = 0.567, Полнота = 0.749, F1 = 0.646\n",
      "Порог = 0.56 | Точность = 0.574, Полнота = 0.728, F1 = 0.642\n",
      "Порог = 0.58 | Точность = 0.589, Полнота = 0.712, F1 = 0.645\n",
      "Порог = 0.60 | Точность = 0.605, Полнота = 0.682, F1 = 0.641\n",
      "Порог = 0.62 | Точность = 0.638, Полнота = 0.668, F1 = 0.653\n",
      "Порог = 0.64 | Точность = 0.648, Полнота = 0.650, F1 = 0.649\n",
      "Порог = 0.66 | Точность = 0.681, Полнота = 0.639, F1 = 0.659\n",
      "Порог = 0.68 | Точность = 0.697, Полнота = 0.606, F1 = 0.648\n",
      "Порог = 0.70 | Точность = 0.707, Полнота = 0.585, F1 = 0.640\n",
      "Порог = 0.72 | Точность = 0.724, Полнота = 0.558, F1 = 0.630\n",
      "Порог = 0.74 | Точность = 0.745, Полнота = 0.520, F1 = 0.613\n",
      "Порог = 0.76 | Точность = 0.773, Полнота = 0.496, F1 = 0.604\n",
      "Порог = 0.78 | Точность = 0.786, Полнота = 0.466, F1 = 0.585\n"
     ]
    }
   ],
   "source": [
    "probabilities_valid = rf_downsampled_model.predict_proba(features_valid)\n",
    "probabilities_one_valid = probabilities_valid[:, 1]\n",
    "\n",
    "for threshold in np.arange(0, 0.8, 0.02):\n",
    "    predicted_valid = probabilities_one_valid > threshold \n",
    "    precision = precision_score(target_valid, predicted_valid)\n",
    "    recall = recall_score(target_valid, predicted_valid)\n",
    "    f1 = f1_score(target_valid, predicted_valid)\n",
    "\n",
    "    print(\"Порог = {:.2f} | Точность = {:.3f}, Полнота = {:.3f}, F1 = {:.3f}\".format(\n",
    "        threshold, precision, recall, f1))"
   ]
  },
  {
   "cell_type": "markdown",
   "metadata": {},
   "source": [
    "На уменьшенной выборке лучший результат с порогом 0.66, **F1 - 0.659**"
   ]
  },
  {
   "cell_type": "markdown",
   "metadata": {},
   "source": [
    "<a id='balance_conclusion'></a>\n",
    "### Выводы по балансировке\n",
    "\n",
    "Лучшей моделью после балансировки оказалась - Случайный лес обученный на данных обработанных увеличением выборки и гиперпараметрами подобранными с помощью кроссвалидации.\n",
    "\n",
    "Тестировали так же и уменьшении выборки и изменение порогов классификации, данные техники не дали значительного улучшения результатов по сравнению с несбалансированной выборкой."
   ]
  },
  {
   "cell_type": "markdown",
   "metadata": {},
   "source": [
    "<a id='test'></a>\n",
    "## Тестирование модели"
   ]
  },
  {
   "cell_type": "markdown",
   "metadata": {},
   "source": [
    "Выбрали следующую модель: ``RandomForestClassifier(class_weight='balanced', max_depth=19, n_estimators=120, random_state=12345)`` обученную с помощь GridSearchCV на 80% от изначальных данных и сбалансированных с помощью **upsamling** техники, остальные 20% мы выделили для тестовой выборки, которую будем теперь использовать."
   ]
  },
  {
   "cell_type": "code",
   "execution_count": 52,
   "metadata": {
    "scrolled": false
   },
   "outputs": [
    {
     "name": "stdout",
     "output_type": "stream",
     "text": [
      "Accuracy на тестовой выборке: 0.8521165475536009\n",
      "F1 на тестовой выборке: 0.6072992700729928\n",
      "\n",
      "Матрица ошибок:\n",
      "[[1342  106]\n",
      " [ 163  208]]\n"
     ]
    },
    {
     "data": {
      "image/png": "[encoded data removed]",
      "text/plain": [
       "<Figure size 432x288 with 1 Axes>"
      ]
     },
     "metadata": {
      "needs_background": "light"
     },
     "output_type": "display_data"
    },
    {
     "name": "stdout",
     "output_type": "stream",
     "text": [
      "AUC-ROC на тестовой выборке: 0.8410327098628464\n"
     ]
    }
   ],
   "source": [
    "predicted_test = rf_upsampled_clf.predict(features_test)\n",
    "\n",
    "\n",
    "probabilities_test = rf_upsampled_clf.predict_proba(features_test)\n",
    "probabilities_one_test = probabilities_test[:, 1]\n",
    "\n",
    "fpr, tpr, thresholds = roc_curve(target_test, probabilities_one_test)\n",
    "auc_roc_test = roc_auc_score(target_test, probabilities_one_test)\n",
    "\n",
    "print('Accuracy на тестовой выборке:', accuracy_score(target_test, predicted_test))\n",
    "print('F1 на тестовой выборке:', f1_score(target_test, predicted_test))\n",
    "print('')\n",
    "print('Матрица ошибок:')\n",
    "print(confusion_matrix(target_test, predicted_test))\n",
    "\n",
    "plt.figure()\n",
    "plt.plot(fpr, tpr)\n",
    "plt.xlim([0.0, 1.0])\n",
    "plt.ylim([0.0, 1.0])\n",
    "plt.xlabel('False Positive Rate')\n",
    "plt.ylabel('True Positive Rate')\n",
    "plt.title('ROC-кривая')\n",
    "plt.show()\n",
    "\n",
    "print('AUC-ROC на тестовой выборке:', auc_roc_test)"
   ]
  },
  {
   "cell_type": "markdown",
   "metadata": {},
   "source": [
    "На тестовой выборке получили следующие результаты:\n",
    "- F1:  **0.607**\n",
    "- AUC-ROC: **0.841**\n",
    "- Accuracy: **0.852**\n",
    "\n",
    "Сравним с \"глупой\" моделью."
   ]
  },
  {
   "cell_type": "code",
   "execution_count": 53,
   "metadata": {},
   "outputs": [
    {
     "name": "stdout",
     "output_type": "stream",
     "text": [
      "Accuracy: 0.7960417811984607\n",
      "F1: 0.0\n",
      "Матрица ошибок:\n",
      "[[1448    0]\n",
      " [ 371    0]]\n"
     ]
    },
    {
     "data": {
      "image/png": "[encoded data removed]",
      "text/plain": [
       "<Figure size 432x288 with 1 Axes>"
      ]
     },
     "metadata": {
      "needs_background": "light"
     },
     "output_type": "display_data"
    },
    {
     "name": "stdout",
     "output_type": "stream",
     "text": [
      "AUC-ROC на тестовой выборке: 0.5\n"
     ]
    }
   ],
   "source": [
    "dummy = DummyClassifier(random_state=12345, strategy=\"most_frequent\")\n",
    "dummy.fit(features_train, target_train)\n",
    "\n",
    "dummy_predicted_test = dummy.predict(features_test)\n",
    "\n",
    "probabilities_test = dummy.predict_proba(features_test)\n",
    "probabilities_one_test = probabilities_test[:, 1]\n",
    "\n",
    "fpr, tpr, thresholds = roc_curve(target_test, probabilities_one_test)\n",
    "auc_roc_test = roc_auc_score(target_test, probabilities_one_test)\n",
    "\n",
    "print('Accuracy:', dummy.score(features_test, target_test))\n",
    "print('F1:', f1_score(target_test, dummy_predicted_test))\n",
    "print('Матрица ошибок:')\n",
    "print(confusion_matrix(target_test, dummy_predicted_test))\n",
    "\n",
    "plt.figure()\n",
    "plt.plot(fpr, tpr)\n",
    "plt.xlim([0.0, 1.0])\n",
    "plt.ylim([0.0, 1.0])\n",
    "plt.xlabel('False Positive Rate')\n",
    "plt.ylabel('True Positive Rate')\n",
    "plt.title('ROC-кривая')\n",
    "plt.show()\n",
    "\n",
    "print('AUC-ROC на тестовой выборке:', auc_roc_test)"
   ]
  },
  {
   "cell_type": "markdown",
   "metadata": {},
   "source": [
    "Результаты полученные с помощью выбранной модели на тестовой выборке нас устраивают."
   ]
  },
  {
   "cell_type": "markdown",
   "metadata": {},
   "source": [
    "<a id='conclusion'></a>\n",
    "## Выводы\n",
    "\n",
    "Перед нами стояла задача классификации с известным целевым признаком. Исследовали полученные данные: обработали их, удалили ненужные данные, разбили на выборки необходимые для обучения и тестирования модели. В процессе исследования обнаружили дисбаланс целевого признака, проверили как модели обучатся без учёта данного дисбаланса. \n",
    "\n",
    "Тестировали следующие модели: Логистическа Регрессия, Древо Решений, Случайный лес. В ходе тестирования остановились на использовании случайного леса, остальные модели показывали значительно худшие результаты. К подбору оптимальных гиперпараметров подошли двумя способами: перебором с помощью циклов и кросс-валидацией GridSearchCV. На несбалансированных данных результаты полученные двумя этими способами были схожие.\n",
    "\n",
    "После этого приступили к балансировке. Пробовали сбалансировать двумя техниками: Upsampling и Downsampling. Так же пробовали менять порог классификации, но этим способом не удалось достичь лучших результатов. Остановились на модели обучнной на upsampling выборке с помощью кросс-валидации. Удалось достичь следующих результатов на тестовой выборке: \n",
    "\n",
    "- F1:  **0.607**\n",
    "- AUC-ROC: **0.841**\n",
    "- Accuracy: **0.852**\n",
    "\n",
    "Модель проверили на адекватность, сравнив с \"глупой\" моделью, предсказывающей только наиболее всречающийся признак в процеесе обучения модели. Наша модель проверку прошла.\n",
    "\n",
    "Наша модель может с хорошей точностью корректно предсказывать расторжение доровора клиента с банком."
   ]
  }
 ],
 "metadata": {
  "kernelspec": {
   "display_name": "Python 3 (ipykernel)",
   "language": "python",
   "name": "python3"
  },
  "language_info": {
   "codemirror_mode": {
    "name": "ipython",
    "version": 3
   },
   "file_extension": ".py",
   "mimetype": "text/x-python",
   "name": "python",
   "nbconvert_exporter": "python",
   "pygments_lexer": "ipython3",
   "version": "3.9.18"
  },
  "toc": {
   "base_numbering": 1,
   "nav_menu": {},
   "number_sections": true,
   "sideBar": true,
   "skip_h1_title": true,
   "title_cell": "Содержание",
   "title_sidebar": "Contents",
   "toc_cell": false,
   "toc_position": {
    "height": "calc(100% - 180px)",
    "left": "10px",
    "top": "150px",
    "width": "264.667px"
   },
   "toc_section_display": true,
   "toc_window_display": true
  },
  "varInspector": {
   "cols": {
    "lenName": 16,
    "lenType": 16,
    "lenVar": 40
   },
   "kernels_config": {
    "python": {
     "delete_cmd_postfix": "",
     "delete_cmd_prefix": "del ",
     "library": "var_list.py",
     "varRefreshCmd": "print(var_dic_list())"
    },
    "r": {
     "delete_cmd_postfix": ") ",
     "delete_cmd_prefix": "rm(",
     "library": "var_list.r",
     "varRefreshCmd": "cat(var_dic_list()) "
    }
   },
   "types_to_exclude": [
    "module",
    "function",
    "builtin_function_or_method",
    "instance",
    "_Feature"
   ],
   "window_display": false
  }
 },
 "nbformat": 4,
 "nbformat_minor": 2
}
